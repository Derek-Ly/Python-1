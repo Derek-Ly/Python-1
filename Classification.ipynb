{
 "cells": [
  {
   "cell_type": "code",
   "execution_count": 3,
   "metadata": {},
   "outputs": [],
   "source": [
    "#Package importing\n",
    "import numpy as np\n",
    "import pandas as pd\n",
    "import matplotlib.pyplot as plt\n",
    "from pandas.plotting import scatter_matrix\n",
    "import seaborn as sns\n",
    "from sklearn.linear_model import LogisticRegression\n",
    "from sklearn.model_selection import train_test_split\n",
    "from sklearn.model_selection import cross_val_predict\n",
    "from sklearn.metrics import confusion_matrix\n",
    "from sklearn.metrics import classification_report\n",
    "from sklearn.ensemble import RandomForestClassifier\n",
    "from sklearn.model_selection import GridSearchCV\n",
    "from sklearn.tree import DecisionTreeClassifier\n",
    "from sklearn.naive_bayes import GaussianNB\n",
    "from sklearn.preprocessing import StandardScaler\n",
    "import xgboost as xgb\n",
    "from sklearn.tree import export_graphviz\n",
    "from warnings import simplefilter"
   ]
  },
  {
   "cell_type": "code",
   "execution_count": 4,
   "metadata": {},
   "outputs": [],
   "source": [
    "#Importing CSV\n",
    "oj = pd.read_csv(\"C:/Users/tony/Desktop/Machine Learning/OJ.csv\")"
   ]
  },
  {
   "cell_type": "code",
   "execution_count": 5,
   "metadata": {},
   "outputs": [
    {
     "data": {
      "text/plain": [
       "Unnamed: 0        0\n",
       "Purchase          0\n",
       "WeekofPurchase    0\n",
       "StoreID           0\n",
       "PriceCH           0\n",
       "PriceMM           0\n",
       "DiscCH            0\n",
       "DiscMM            0\n",
       "SpecialCH         0\n",
       "SpecialMM         0\n",
       "LoyalCH           0\n",
       "SalePriceMM       0\n",
       "SalePriceCH       0\n",
       "PriceDiff         0\n",
       "Store7            0\n",
       "PctDiscMM         0\n",
       "PctDiscCH         0\n",
       "ListPriceDiff     0\n",
       "STORE             0\n",
       "dtype: int64"
      ]
     },
     "execution_count": 5,
     "metadata": {},
     "output_type": "execute_result"
    }
   ],
   "source": [
    "#Checking for missing values\n",
    "oj.isna().sum()"
   ]
  },
  {
   "cell_type": "code",
   "execution_count": 6,
   "metadata": {},
   "outputs": [
    {
     "data": {
      "text/html": [
       "<div>\n",
       "<style scoped>\n",
       "    .dataframe tbody tr th:only-of-type {\n",
       "        vertical-align: middle;\n",
       "    }\n",
       "\n",
       "    .dataframe tbody tr th {\n",
       "        vertical-align: top;\n",
       "    }\n",
       "\n",
       "    .dataframe thead th {\n",
       "        text-align: right;\n",
       "    }\n",
       "</style>\n",
       "<table border=\"1\" class=\"dataframe\">\n",
       "  <thead>\n",
       "    <tr style=\"text-align: right;\">\n",
       "      <th></th>\n",
       "      <th>Unnamed: 0</th>\n",
       "      <th>Purchase</th>\n",
       "      <th>WeekofPurchase</th>\n",
       "      <th>StoreID</th>\n",
       "      <th>PriceCH</th>\n",
       "      <th>PriceMM</th>\n",
       "      <th>DiscCH</th>\n",
       "      <th>DiscMM</th>\n",
       "      <th>SpecialCH</th>\n",
       "      <th>SpecialMM</th>\n",
       "      <th>LoyalCH</th>\n",
       "      <th>SalePriceMM</th>\n",
       "      <th>SalePriceCH</th>\n",
       "      <th>PriceDiff</th>\n",
       "      <th>Store7</th>\n",
       "      <th>PctDiscMM</th>\n",
       "      <th>PctDiscCH</th>\n",
       "      <th>ListPriceDiff</th>\n",
       "      <th>STORE</th>\n",
       "    </tr>\n",
       "  </thead>\n",
       "  <tbody>\n",
       "    <tr>\n",
       "      <th>0</th>\n",
       "      <td>1</td>\n",
       "      <td>CH</td>\n",
       "      <td>237</td>\n",
       "      <td>1</td>\n",
       "      <td>1.75</td>\n",
       "      <td>1.99</td>\n",
       "      <td>0.00</td>\n",
       "      <td>0.0</td>\n",
       "      <td>0</td>\n",
       "      <td>0</td>\n",
       "      <td>0.500000</td>\n",
       "      <td>1.99</td>\n",
       "      <td>1.75</td>\n",
       "      <td>0.24</td>\n",
       "      <td>No</td>\n",
       "      <td>0.000000</td>\n",
       "      <td>0.000000</td>\n",
       "      <td>0.24</td>\n",
       "      <td>1</td>\n",
       "    </tr>\n",
       "    <tr>\n",
       "      <th>1</th>\n",
       "      <td>2</td>\n",
       "      <td>CH</td>\n",
       "      <td>239</td>\n",
       "      <td>1</td>\n",
       "      <td>1.75</td>\n",
       "      <td>1.99</td>\n",
       "      <td>0.00</td>\n",
       "      <td>0.3</td>\n",
       "      <td>0</td>\n",
       "      <td>1</td>\n",
       "      <td>0.600000</td>\n",
       "      <td>1.69</td>\n",
       "      <td>1.75</td>\n",
       "      <td>-0.06</td>\n",
       "      <td>No</td>\n",
       "      <td>0.150754</td>\n",
       "      <td>0.000000</td>\n",
       "      <td>0.24</td>\n",
       "      <td>1</td>\n",
       "    </tr>\n",
       "    <tr>\n",
       "      <th>2</th>\n",
       "      <td>3</td>\n",
       "      <td>CH</td>\n",
       "      <td>245</td>\n",
       "      <td>1</td>\n",
       "      <td>1.86</td>\n",
       "      <td>2.09</td>\n",
       "      <td>0.17</td>\n",
       "      <td>0.0</td>\n",
       "      <td>0</td>\n",
       "      <td>0</td>\n",
       "      <td>0.680000</td>\n",
       "      <td>2.09</td>\n",
       "      <td>1.69</td>\n",
       "      <td>0.40</td>\n",
       "      <td>No</td>\n",
       "      <td>0.000000</td>\n",
       "      <td>0.091398</td>\n",
       "      <td>0.23</td>\n",
       "      <td>1</td>\n",
       "    </tr>\n",
       "    <tr>\n",
       "      <th>3</th>\n",
       "      <td>4</td>\n",
       "      <td>MM</td>\n",
       "      <td>227</td>\n",
       "      <td>1</td>\n",
       "      <td>1.69</td>\n",
       "      <td>1.69</td>\n",
       "      <td>0.00</td>\n",
       "      <td>0.0</td>\n",
       "      <td>0</td>\n",
       "      <td>0</td>\n",
       "      <td>0.400000</td>\n",
       "      <td>1.69</td>\n",
       "      <td>1.69</td>\n",
       "      <td>0.00</td>\n",
       "      <td>No</td>\n",
       "      <td>0.000000</td>\n",
       "      <td>0.000000</td>\n",
       "      <td>0.00</td>\n",
       "      <td>1</td>\n",
       "    </tr>\n",
       "    <tr>\n",
       "      <th>4</th>\n",
       "      <td>5</td>\n",
       "      <td>CH</td>\n",
       "      <td>228</td>\n",
       "      <td>7</td>\n",
       "      <td>1.69</td>\n",
       "      <td>1.69</td>\n",
       "      <td>0.00</td>\n",
       "      <td>0.0</td>\n",
       "      <td>0</td>\n",
       "      <td>0</td>\n",
       "      <td>0.956535</td>\n",
       "      <td>1.69</td>\n",
       "      <td>1.69</td>\n",
       "      <td>0.00</td>\n",
       "      <td>Yes</td>\n",
       "      <td>0.000000</td>\n",
       "      <td>0.000000</td>\n",
       "      <td>0.00</td>\n",
       "      <td>0</td>\n",
       "    </tr>\n",
       "  </tbody>\n",
       "</table>\n",
       "</div>"
      ],
      "text/plain": [
       "   Unnamed: 0 Purchase  WeekofPurchase  StoreID  PriceCH  PriceMM  DiscCH  \\\n",
       "0           1       CH             237        1     1.75     1.99    0.00   \n",
       "1           2       CH             239        1     1.75     1.99    0.00   \n",
       "2           3       CH             245        1     1.86     2.09    0.17   \n",
       "3           4       MM             227        1     1.69     1.69    0.00   \n",
       "4           5       CH             228        7     1.69     1.69    0.00   \n",
       "\n",
       "   DiscMM  SpecialCH  SpecialMM   LoyalCH  SalePriceMM  SalePriceCH  \\\n",
       "0     0.0          0          0  0.500000         1.99         1.75   \n",
       "1     0.3          0          1  0.600000         1.69         1.75   \n",
       "2     0.0          0          0  0.680000         2.09         1.69   \n",
       "3     0.0          0          0  0.400000         1.69         1.69   \n",
       "4     0.0          0          0  0.956535         1.69         1.69   \n",
       "\n",
       "   PriceDiff Store7  PctDiscMM  PctDiscCH  ListPriceDiff  STORE  \n",
       "0       0.24     No   0.000000   0.000000           0.24      1  \n",
       "1      -0.06     No   0.150754   0.000000           0.24      1  \n",
       "2       0.40     No   0.000000   0.091398           0.23      1  \n",
       "3       0.00     No   0.000000   0.000000           0.00      1  \n",
       "4       0.00    Yes   0.000000   0.000000           0.00      0  "
      ]
     },
     "execution_count": 6,
     "metadata": {},
     "output_type": "execute_result"
    }
   ],
   "source": [
    "oj.head()"
   ]
  },
  {
   "cell_type": "code",
   "execution_count": 7,
   "metadata": {},
   "outputs": [],
   "source": [
    "#CH = 1, Yes = 1 else 0\n",
    "oj['Purchase'] = (oj['Purchase'] == \"CH\").astype(int)\n",
    "oj['Store7'] = (oj['Store7'] == \"Yes\").astype(int)"
   ]
  },
  {
   "cell_type": "code",
   "execution_count": 8,
   "metadata": {},
   "outputs": [
    {
     "data": {
      "text/html": [
       "<div>\n",
       "<style scoped>\n",
       "    .dataframe tbody tr th:only-of-type {\n",
       "        vertical-align: middle;\n",
       "    }\n",
       "\n",
       "    .dataframe tbody tr th {\n",
       "        vertical-align: top;\n",
       "    }\n",
       "\n",
       "    .dataframe thead th {\n",
       "        text-align: right;\n",
       "    }\n",
       "</style>\n",
       "<table border=\"1\" class=\"dataframe\">\n",
       "  <thead>\n",
       "    <tr style=\"text-align: right;\">\n",
       "      <th></th>\n",
       "      <th>Unnamed: 0</th>\n",
       "      <th>Purchase</th>\n",
       "      <th>WeekofPurchase</th>\n",
       "      <th>StoreID</th>\n",
       "      <th>PriceCH</th>\n",
       "      <th>PriceMM</th>\n",
       "      <th>DiscCH</th>\n",
       "      <th>DiscMM</th>\n",
       "      <th>SpecialCH</th>\n",
       "      <th>SpecialMM</th>\n",
       "      <th>LoyalCH</th>\n",
       "      <th>SalePriceMM</th>\n",
       "      <th>SalePriceCH</th>\n",
       "      <th>PriceDiff</th>\n",
       "      <th>Store7</th>\n",
       "      <th>PctDiscMM</th>\n",
       "      <th>PctDiscCH</th>\n",
       "      <th>ListPriceDiff</th>\n",
       "      <th>STORE</th>\n",
       "    </tr>\n",
       "  </thead>\n",
       "  <tbody>\n",
       "    <tr>\n",
       "      <th>0</th>\n",
       "      <td>1</td>\n",
       "      <td>1</td>\n",
       "      <td>237</td>\n",
       "      <td>1</td>\n",
       "      <td>1.75</td>\n",
       "      <td>1.99</td>\n",
       "      <td>0.00</td>\n",
       "      <td>0.0</td>\n",
       "      <td>0</td>\n",
       "      <td>0</td>\n",
       "      <td>0.500000</td>\n",
       "      <td>1.99</td>\n",
       "      <td>1.75</td>\n",
       "      <td>0.24</td>\n",
       "      <td>0</td>\n",
       "      <td>0.000000</td>\n",
       "      <td>0.000000</td>\n",
       "      <td>0.24</td>\n",
       "      <td>1</td>\n",
       "    </tr>\n",
       "    <tr>\n",
       "      <th>1</th>\n",
       "      <td>2</td>\n",
       "      <td>1</td>\n",
       "      <td>239</td>\n",
       "      <td>1</td>\n",
       "      <td>1.75</td>\n",
       "      <td>1.99</td>\n",
       "      <td>0.00</td>\n",
       "      <td>0.3</td>\n",
       "      <td>0</td>\n",
       "      <td>1</td>\n",
       "      <td>0.600000</td>\n",
       "      <td>1.69</td>\n",
       "      <td>1.75</td>\n",
       "      <td>-0.06</td>\n",
       "      <td>0</td>\n",
       "      <td>0.150754</td>\n",
       "      <td>0.000000</td>\n",
       "      <td>0.24</td>\n",
       "      <td>1</td>\n",
       "    </tr>\n",
       "    <tr>\n",
       "      <th>2</th>\n",
       "      <td>3</td>\n",
       "      <td>1</td>\n",
       "      <td>245</td>\n",
       "      <td>1</td>\n",
       "      <td>1.86</td>\n",
       "      <td>2.09</td>\n",
       "      <td>0.17</td>\n",
       "      <td>0.0</td>\n",
       "      <td>0</td>\n",
       "      <td>0</td>\n",
       "      <td>0.680000</td>\n",
       "      <td>2.09</td>\n",
       "      <td>1.69</td>\n",
       "      <td>0.40</td>\n",
       "      <td>0</td>\n",
       "      <td>0.000000</td>\n",
       "      <td>0.091398</td>\n",
       "      <td>0.23</td>\n",
       "      <td>1</td>\n",
       "    </tr>\n",
       "    <tr>\n",
       "      <th>3</th>\n",
       "      <td>4</td>\n",
       "      <td>0</td>\n",
       "      <td>227</td>\n",
       "      <td>1</td>\n",
       "      <td>1.69</td>\n",
       "      <td>1.69</td>\n",
       "      <td>0.00</td>\n",
       "      <td>0.0</td>\n",
       "      <td>0</td>\n",
       "      <td>0</td>\n",
       "      <td>0.400000</td>\n",
       "      <td>1.69</td>\n",
       "      <td>1.69</td>\n",
       "      <td>0.00</td>\n",
       "      <td>0</td>\n",
       "      <td>0.000000</td>\n",
       "      <td>0.000000</td>\n",
       "      <td>0.00</td>\n",
       "      <td>1</td>\n",
       "    </tr>\n",
       "    <tr>\n",
       "      <th>4</th>\n",
       "      <td>5</td>\n",
       "      <td>1</td>\n",
       "      <td>228</td>\n",
       "      <td>7</td>\n",
       "      <td>1.69</td>\n",
       "      <td>1.69</td>\n",
       "      <td>0.00</td>\n",
       "      <td>0.0</td>\n",
       "      <td>0</td>\n",
       "      <td>0</td>\n",
       "      <td>0.956535</td>\n",
       "      <td>1.69</td>\n",
       "      <td>1.69</td>\n",
       "      <td>0.00</td>\n",
       "      <td>1</td>\n",
       "      <td>0.000000</td>\n",
       "      <td>0.000000</td>\n",
       "      <td>0.00</td>\n",
       "      <td>0</td>\n",
       "    </tr>\n",
       "  </tbody>\n",
       "</table>\n",
       "</div>"
      ],
      "text/plain": [
       "   Unnamed: 0  Purchase  WeekofPurchase  StoreID  PriceCH  PriceMM  DiscCH  \\\n",
       "0           1         1             237        1     1.75     1.99    0.00   \n",
       "1           2         1             239        1     1.75     1.99    0.00   \n",
       "2           3         1             245        1     1.86     2.09    0.17   \n",
       "3           4         0             227        1     1.69     1.69    0.00   \n",
       "4           5         1             228        7     1.69     1.69    0.00   \n",
       "\n",
       "   DiscMM  SpecialCH  SpecialMM   LoyalCH  SalePriceMM  SalePriceCH  \\\n",
       "0     0.0          0          0  0.500000         1.99         1.75   \n",
       "1     0.3          0          1  0.600000         1.69         1.75   \n",
       "2     0.0          0          0  0.680000         2.09         1.69   \n",
       "3     0.0          0          0  0.400000         1.69         1.69   \n",
       "4     0.0          0          0  0.956535         1.69         1.69   \n",
       "\n",
       "   PriceDiff  Store7  PctDiscMM  PctDiscCH  ListPriceDiff  STORE  \n",
       "0       0.24       0   0.000000   0.000000           0.24      1  \n",
       "1      -0.06       0   0.150754   0.000000           0.24      1  \n",
       "2       0.40       0   0.000000   0.091398           0.23      1  \n",
       "3       0.00       0   0.000000   0.000000           0.00      1  \n",
       "4       0.00       1   0.000000   0.000000           0.00      0  "
      ]
     },
     "execution_count": 8,
     "metadata": {},
     "output_type": "execute_result"
    }
   ],
   "source": [
    "oj.head()"
   ]
  },
  {
   "cell_type": "code",
   "execution_count": 9,
   "metadata": {},
   "outputs": [
    {
     "data": {
      "image/png": "[encoded data removed]",
      "text/plain": [
       "<Figure size 432x288 with 2 Axes>"
      ]
     },
     "metadata": {
      "needs_background": "light"
     },
     "output_type": "display_data"
    }
   ],
   "source": [
    "#LoyalCH is most correlated with Purchase, so it should be included\n",
    "corr = oj.corr()\n",
    "corr.drop(corr.iloc[:, [0,3]], inplace = True, axis = 0)\n",
    "corr.drop(corr.iloc[:, [0,3]], inplace = True, axis = 1)\n",
    "\n",
    "ax = sns.heatmap(\n",
    "    corr, \n",
    "    vmin=-1, vmax=1, center=0,\n",
    "    cmap=sns.diverging_palette(20, 220, n=200),\n",
    "    square=True\n",
    ")\n",
    "ax.set_xticklabels(\n",
    "    ax.get_xticklabels(),\n",
    "    rotation=90,\n",
    ");"
   ]
  },
  {
   "cell_type": "code",
   "execution_count": 10,
   "metadata": {},
   "outputs": [
    {
     "data": {
      "text/plain": [
       "array([[<matplotlib.axes._subplots.AxesSubplot object at 0x000001DCC3BE9D68>,\n",
       "        <matplotlib.axes._subplots.AxesSubplot object at 0x000001DCC5DB1C50>,\n",
       "        <matplotlib.axes._subplots.AxesSubplot object at 0x000001DCC5DE00F0>,\n",
       "        <matplotlib.axes._subplots.AxesSubplot object at 0x000001DCC5E07668>],\n",
       "       [<matplotlib.axes._subplots.AxesSubplot object at 0x000001DCC5E2CBE0>,\n",
       "        <matplotlib.axes._subplots.AxesSubplot object at 0x000001DCC5E5F198>,\n",
       "        <matplotlib.axes._subplots.AxesSubplot object at 0x000001DCC5E87710>,\n",
       "        <matplotlib.axes._subplots.AxesSubplot object at 0x000001DCC5EACCC0>],\n",
       "       [<matplotlib.axes._subplots.AxesSubplot object at 0x000001DCC5EACCF8>,\n",
       "        <matplotlib.axes._subplots.AxesSubplot object at 0x000001DCC5F057B8>,\n",
       "        <matplotlib.axes._subplots.AxesSubplot object at 0x000001DCC5F2CD30>,\n",
       "        <matplotlib.axes._subplots.AxesSubplot object at 0x000001DCC5F5E2E8>],\n",
       "       [<matplotlib.axes._subplots.AxesSubplot object at 0x000001DCC5F83860>,\n",
       "        <matplotlib.axes._subplots.AxesSubplot object at 0x000001DCC5FAADD8>,\n",
       "        <matplotlib.axes._subplots.AxesSubplot object at 0x000001DCC5FDC390>,\n",
       "        <matplotlib.axes._subplots.AxesSubplot object at 0x000001DCC6002908>],\n",
       "       [<matplotlib.axes._subplots.AxesSubplot object at 0x000001DCC602AE80>,\n",
       "        <matplotlib.axes._subplots.AxesSubplot object at 0x000001DCC605A438>,\n",
       "        <matplotlib.axes._subplots.AxesSubplot object at 0x000001DCC60829B0>,\n",
       "        <matplotlib.axes._subplots.AxesSubplot object at 0x000001DCC60ABF28>]],\n",
       "      dtype=object)"
      ]
     },
     "execution_count": 10,
     "metadata": {},
     "output_type": "execute_result"
    },
    {
     "data": {
      "image/png": "[encoded data removed]",
      "text/plain": [
       "<Figure size 1440x1080 with 20 Axes>"
      ]
     },
     "metadata": {
      "needs_background": "light"
     },
     "output_type": "display_data"
    }
   ],
   "source": [
    "#Quick graph to see the distribution.\n",
    "oj.hist(bins= 50, figsize = (20,15))"
   ]
  },
  {
   "cell_type": "code",
   "execution_count": 11,
   "metadata": {},
   "outputs": [],
   "source": [
    "#Dropping this as it's a redundant field\n",
    "oj.drop(oj.iloc[:, [0, 3]], axis = 1, inplace= True)"
   ]
  },
  {
   "cell_type": "code",
   "execution_count": 12,
   "metadata": {},
   "outputs": [],
   "source": [
    "#Scaling Data to prevent features with larger scale from biasing the prediction.\n",
    "oj_columns = oj.iloc[:, [1,2,3,4,5,8,9,10,11,13,14,15]]\n",
    "standard = StandardScaler()\n",
    "oj_scaled = standard.fit_transform(oj_columns)\n",
    "oj_scaled = pd.DataFrame(oj_scaled, columns = oj_columns.columns)\n",
    "oj.drop(oj.iloc[:, [1,2,3,4,5,8,9,10,11,13,14,15]], inplace = True, axis = 1)"
   ]
  },
  {
   "cell_type": "code",
   "execution_count": 13,
   "metadata": {},
   "outputs": [],
   "source": [
    "oj = pd.concat([oj, oj_scaled], axis = 1, sort = False, ignore_index= False)"
   ]
  },
  {
   "cell_type": "code",
   "execution_count": 14,
   "metadata": {},
   "outputs": [
    {
     "data": {
      "text/html": [
       "<div>\n",
       "<style scoped>\n",
       "    .dataframe tbody tr th:only-of-type {\n",
       "        vertical-align: middle;\n",
       "    }\n",
       "\n",
       "    .dataframe tbody tr th {\n",
       "        vertical-align: top;\n",
       "    }\n",
       "\n",
       "    .dataframe thead th {\n",
       "        text-align: right;\n",
       "    }\n",
       "</style>\n",
       "<table border=\"1\" class=\"dataframe\">\n",
       "  <thead>\n",
       "    <tr style=\"text-align: right;\">\n",
       "      <th></th>\n",
       "      <th>Purchase</th>\n",
       "      <th>SpecialCH</th>\n",
       "      <th>SpecialMM</th>\n",
       "      <th>Store7</th>\n",
       "      <th>STORE</th>\n",
       "      <th>WeekofPurchase</th>\n",
       "      <th>PriceCH</th>\n",
       "      <th>PriceMM</th>\n",
       "      <th>DiscCH</th>\n",
       "      <th>DiscMM</th>\n",
       "      <th>LoyalCH</th>\n",
       "      <th>SalePriceMM</th>\n",
       "      <th>SalePriceCH</th>\n",
       "      <th>PriceDiff</th>\n",
       "      <th>PctDiscMM</th>\n",
       "      <th>PctDiscCH</th>\n",
       "      <th>ListPriceDiff</th>\n",
       "    </tr>\n",
       "  </thead>\n",
       "  <tbody>\n",
       "    <tr>\n",
       "      <th>0</th>\n",
       "      <td>1</td>\n",
       "      <td>0</td>\n",
       "      <td>0</td>\n",
       "      <td>0</td>\n",
       "      <td>1</td>\n",
       "      <td>-1.117696</td>\n",
       "      <td>-1.152062</td>\n",
       "      <td>-0.710313</td>\n",
       "      <td>-0.441664</td>\n",
       "      <td>-0.577188</td>\n",
       "      <td>-0.213788</td>\n",
       "      <td>0.110671</td>\n",
       "      <td>-0.457454</td>\n",
       "      <td>0.344516</td>\n",
       "      <td>-0.583001</td>\n",
       "      <td>-0.439106</td>\n",
       "      <td>0.204766</td>\n",
       "    </tr>\n",
       "    <tr>\n",
       "      <th>1</th>\n",
       "      <td>1</td>\n",
       "      <td>0</td>\n",
       "      <td>1</td>\n",
       "      <td>0</td>\n",
       "      <td>1</td>\n",
       "      <td>-0.989087</td>\n",
       "      <td>-1.152062</td>\n",
       "      <td>-0.710313</td>\n",
       "      <td>-0.441664</td>\n",
       "      <td>0.826428</td>\n",
       "      <td>0.111205</td>\n",
       "      <td>-1.077075</td>\n",
       "      <td>-0.457454</td>\n",
       "      <td>-0.760718</td>\n",
       "      <td>0.899158</td>\n",
       "      <td>-0.439106</td>\n",
       "      <td>0.204766</td>\n",
       "    </tr>\n",
       "    <tr>\n",
       "      <th>2</th>\n",
       "      <td>1</td>\n",
       "      <td>0</td>\n",
       "      <td>0</td>\n",
       "      <td>0</td>\n",
       "      <td>1</td>\n",
       "      <td>-0.603260</td>\n",
       "      <td>-0.072806</td>\n",
       "      <td>0.034162</td>\n",
       "      <td>1.006140</td>\n",
       "      <td>-0.577188</td>\n",
       "      <td>0.371200</td>\n",
       "      <td>0.506587</td>\n",
       "      <td>-0.876108</td>\n",
       "      <td>0.933974</td>\n",
       "      <td>-0.583001</td>\n",
       "      <td>1.030237</td>\n",
       "      <td>0.111730</td>\n",
       "    </tr>\n",
       "    <tr>\n",
       "      <th>3</th>\n",
       "      <td>0</td>\n",
       "      <td>0</td>\n",
       "      <td>0</td>\n",
       "      <td>0</td>\n",
       "      <td>1</td>\n",
       "      <td>-1.760741</td>\n",
       "      <td>-1.740747</td>\n",
       "      <td>-2.943741</td>\n",
       "      <td>-0.441664</td>\n",
       "      <td>-0.577188</td>\n",
       "      <td>-0.538781</td>\n",
       "      <td>-1.077075</td>\n",
       "      <td>-0.876108</td>\n",
       "      <td>-0.539671</td>\n",
       "      <td>-0.583001</td>\n",
       "      <td>-0.439106</td>\n",
       "      <td>-2.028100</td>\n",
       "    </tr>\n",
       "    <tr>\n",
       "      <th>4</th>\n",
       "      <td>1</td>\n",
       "      <td>0</td>\n",
       "      <td>0</td>\n",
       "      <td>1</td>\n",
       "      <td>0</td>\n",
       "      <td>-1.696437</td>\n",
       "      <td>-1.740747</td>\n",
       "      <td>-2.943741</td>\n",
       "      <td>-0.441664</td>\n",
       "      <td>-0.577188</td>\n",
       "      <td>1.269920</td>\n",
       "      <td>-1.077075</td>\n",
       "      <td>-0.876108</td>\n",
       "      <td>-0.539671</td>\n",
       "      <td>-0.583001</td>\n",
       "      <td>-0.439106</td>\n",
       "      <td>-2.028100</td>\n",
       "    </tr>\n",
       "  </tbody>\n",
       "</table>\n",
       "</div>"
      ],
      "text/plain": [
       "   Purchase  SpecialCH  SpecialMM  Store7  STORE  WeekofPurchase   PriceCH  \\\n",
       "0         1          0          0       0      1       -1.117696 -1.152062   \n",
       "1         1          0          1       0      1       -0.989087 -1.152062   \n",
       "2         1          0          0       0      1       -0.603260 -0.072806   \n",
       "3         0          0          0       0      1       -1.760741 -1.740747   \n",
       "4         1          0          0       1      0       -1.696437 -1.740747   \n",
       "\n",
       "    PriceMM    DiscCH    DiscMM   LoyalCH  SalePriceMM  SalePriceCH  \\\n",
       "0 -0.710313 -0.441664 -0.577188 -0.213788     0.110671    -0.457454   \n",
       "1 -0.710313 -0.441664  0.826428  0.111205    -1.077075    -0.457454   \n",
       "2  0.034162  1.006140 -0.577188  0.371200     0.506587    -0.876108   \n",
       "3 -2.943741 -0.441664 -0.577188 -0.538781    -1.077075    -0.876108   \n",
       "4 -2.943741 -0.441664 -0.577188  1.269920    -1.077075    -0.876108   \n",
       "\n",
       "   PriceDiff  PctDiscMM  PctDiscCH  ListPriceDiff  \n",
       "0   0.344516  -0.583001  -0.439106       0.204766  \n",
       "1  -0.760718   0.899158  -0.439106       0.204766  \n",
       "2   0.933974  -0.583001   1.030237       0.111730  \n",
       "3  -0.539671  -0.583001  -0.439106      -2.028100  \n",
       "4  -0.539671  -0.583001  -0.439106      -2.028100  "
      ]
     },
     "execution_count": 14,
     "metadata": {},
     "output_type": "execute_result"
    }
   ],
   "source": [
    "oj.head()"
   ]
  },
  {
   "cell_type": "code",
   "execution_count": 15,
   "metadata": {},
   "outputs": [],
   "source": [
    "#Splitting data\n",
    "X_train, x_test, Y_train, y_test = train_test_split(oj.iloc[:, 1:], oj[\"Purchase\"], test_size = 0.3, random_state = 0)"
   ]
  },
  {
   "cell_type": "code",
   "execution_count": 16,
   "metadata": {},
   "outputs": [
    {
     "data": {
      "text/plain": [
       "{'penalty': 'l2'}"
      ]
     },
     "execution_count": 16,
     "metadata": {},
     "output_type": "execute_result"
    }
   ],
   "source": [
    "# ignore all future warnings\n",
    "simplefilter(action='ignore', category=FutureWarning)\n",
    "\n",
    "#Logistic Regression\n",
    "logistic = LogisticRegression(random_state = 0)\n",
    "param_grid_logistic = {\"penalty\": ['l1', 'l2']\n",
    "              }\n",
    "grid_search_logistic = GridSearchCV(estimator = logistic, param_grid = param_grid_logistic, cv = 5)\n",
    "grid_search_logistic.fit(X_train, Y_train)\n",
    "grid_search_logistic.best_params_"
   ]
  },
  {
   "cell_type": "code",
   "execution_count": 17,
   "metadata": {},
   "outputs": [
    {
     "name": "stdout",
     "output_type": "stream",
     "text": [
      "              precision    recall  f1-score   support\n",
      "\n",
      "           0       0.79      0.75      0.77       281\n",
      "           1       0.85      0.88      0.87       468\n",
      "\n",
      "    accuracy                           0.83       749\n",
      "   macro avg       0.82      0.81      0.82       749\n",
      "weighted avg       0.83      0.83      0.83       749\n",
      "\n",
      "LogisticRegression(C=1.0, class_weight=None, dual=False, fit_intercept=True,\n",
      "                   intercept_scaling=1, l1_ratio=None, max_iter=100,\n",
      "                   multi_class='warn', n_jobs=None, penalty='l2',\n",
      "                   random_state=0, solver='warn', tol=0.0001, verbose=0,\n",
      "                   warm_start=False)\n"
     ]
    }
   ],
   "source": [
    "logistic = LogisticRegression(random_state = 0, penalty = 'l2')\n",
    "\n",
    "logistic_prediction = cross_val_predict(logistic, X_train, Y_train, cv = 5)\n",
    "confusion_logistic = confusion_matrix(Y_train, logistic_prediction)\n",
    "print(classification_report(Y_train, logistic_prediction))\n",
    "\n",
    "print(logistic)"
   ]
  },
  {
   "cell_type": "code",
   "execution_count": 18,
   "metadata": {},
   "outputs": [
    {
     "name": "stdout",
     "output_type": "stream",
     "text": [
      "              precision    recall  f1-score   support\n",
      "\n",
      "           0       0.82      0.78      0.80       136\n",
      "           1       0.84      0.87      0.86       185\n",
      "\n",
      "    accuracy                           0.83       321\n",
      "   macro avg       0.83      0.82      0.83       321\n",
      "weighted avg       0.83      0.83      0.83       321\n",
      "\n",
      "[[106  30]\n",
      " [ 24 161]]\n"
     ]
    }
   ],
   "source": [
    "logistic.fit(X_train, Y_train)\n",
    "logistic_prediction_test = logistic.predict(x_test)\n",
    "confusion_logistic_test = confusion_matrix(y_test, logistic_prediction_test)\n",
    "print(classification_report(y_test, logistic_prediction_test))\n",
    "print(confusion_logistic_test)"
   ]
  },
  {
   "cell_type": "code",
   "execution_count": 19,
   "metadata": {},
   "outputs": [
    {
     "data": {
      "text/plain": [
       "{'bootstrap': True,\n",
       " 'max_depth': 4,\n",
       " 'max_features': 'auto',\n",
       " 'min_samples_leaf': 2,\n",
       " 'min_samples_split': 2}"
      ]
     },
     "execution_count": 19,
     "metadata": {},
     "output_type": "execute_result"
    }
   ],
   "source": [
    "#Random Forest\n",
    "randomforest = RandomForestClassifier(random_state = 0)\n",
    "param_grid = {\"max_depth\": [3,4,5, None],\n",
    "              \"min_samples_leaf\": [1,2,3,4],\n",
    "              \"bootstrap\": [True,False],\n",
    "              \"max_features\": [\"auto\", \"sqrt\", \"log2\"],\n",
    "              \"min_samples_split\": [2,3,4,5]\n",
    "              }\n",
    "\n",
    "grid_search = GridSearchCV(estimator = randomforest, param_grid = param_grid, cv = 5)\n",
    "grid_search.fit(X_train, Y_train)\n",
    "grid_search.best_params_\n",
    "\n"
   ]
  },
  {
   "cell_type": "code",
   "execution_count": 20,
   "metadata": {},
   "outputs": [
    {
     "name": "stdout",
     "output_type": "stream",
     "text": [
      "              precision    recall  f1-score   support\n",
      "\n",
      "           0       0.78      0.70      0.74       281\n",
      "           1       0.83      0.88      0.86       468\n",
      "\n",
      "    accuracy                           0.81       749\n",
      "   macro avg       0.81      0.79      0.80       749\n",
      "weighted avg       0.81      0.81      0.81       749\n",
      "\n",
      "RandomForestClassifier(bootstrap=True, class_weight=None, criterion='gini',\n",
      "                       max_depth=4, max_features='auto', max_leaf_nodes=None,\n",
      "                       min_impurity_decrease=0.0, min_impurity_split=None,\n",
      "                       min_samples_leaf=2, min_samples_split=2,\n",
      "                       min_weight_fraction_leaf=0.0, n_estimators='warn',\n",
      "                       n_jobs=None, oob_score=False, random_state=None,\n",
      "                       verbose=0, warm_start=False)\n"
     ]
    }
   ],
   "source": [
    "randomforest = RandomForestClassifier(bootstrap = True, max_depth = 4, max_features = \"auto\", min_samples_leaf = 2, min_samples_split = 2)\n",
    "randomforest_prediction = cross_val_predict(randomforest, X_train, Y_train, cv = 5)\n",
    "confusion_forest = confusion_matrix(Y_train, randomforest_prediction)\n",
    "print(classification_report(Y_train, randomforest_prediction))\n",
    "\n",
    "print(randomforest)"
   ]
  },
  {
   "cell_type": "code",
   "execution_count": 21,
   "metadata": {},
   "outputs": [
    {
     "name": "stdout",
     "output_type": "stream",
     "text": [
      "              precision    recall  f1-score   support\n",
      "\n",
      "           0       0.77      0.74      0.75       136\n",
      "           1       0.81      0.83      0.82       185\n",
      "\n",
      "    accuracy                           0.79       321\n",
      "   macro avg       0.79      0.79      0.79       321\n",
      "weighted avg       0.79      0.79      0.79       321\n",
      "\n",
      "[[101  35]\n",
      " [ 31 154]]\n"
     ]
    }
   ],
   "source": [
    "randomforest.fit(X_train, Y_train)\n",
    "randomforest_prediction_test = randomforest.predict(x_test)\n",
    "confusion_forest_test = confusion_matrix(y_test, randomforest_prediction_test)\n",
    "print(classification_report(y_test, randomforest_prediction_test))\n",
    "print(confusion_forest_test)"
   ]
  },
  {
   "cell_type": "code",
   "execution_count": 22,
   "metadata": {},
   "outputs": [
    {
     "data": {
      "text/plain": [
       "{'learning_rate': 0.1, 'max_depth': 3}"
      ]
     },
     "execution_count": 22,
     "metadata": {},
     "output_type": "execute_result"
    }
   ],
   "source": [
    "#X_matrix = xgb.DMatrix(X_train, Y_train)\n",
    "#XGBoost Classifier\n",
    "boost = xgb.XGBClassifier(objective = 'reg:logistic', random_state = 0)\n",
    "\n",
    "param_grid_boost = {\"max_depth\": [3,5,7,9],\n",
    "               \"learning_rate\": [0.1,0.2,0.3]\n",
    "               }\n",
    "\n",
    "grid_search_boost = GridSearchCV(boost, param_grid= param_grid_boost, cv = 5)\n",
    "grid_search_boost.fit(X_train, Y_train)\n",
    "grid_search_boost.best_params_\n"
   ]
  },
  {
   "cell_type": "code",
   "execution_count": 23,
   "metadata": {},
   "outputs": [
    {
     "name": "stdout",
     "output_type": "stream",
     "text": [
      "              precision    recall  f1-score   support\n",
      "\n",
      "           0       0.76      0.75      0.76       281\n",
      "           1       0.85      0.86      0.86       468\n",
      "\n",
      "    accuracy                           0.82       749\n",
      "   macro avg       0.81      0.80      0.81       749\n",
      "weighted avg       0.82      0.82      0.82       749\n",
      "\n",
      "XGBClassifier(base_score=0.5, booster='gbtree', colsample_bylevel=1,\n",
      "              colsample_bynode=1, colsample_bytree=1, gamma=0,\n",
      "              learning_rate=0.1, max_delta_step=0, max_depth=3,\n",
      "              min_child_weight=1, missing=None, n_estimators=100, n_jobs=1,\n",
      "              nthread=None, objective='reg:logistic', random_state=0,\n",
      "              reg_alpha=0, reg_lambda=1, scale_pos_weight=1, seed=None,\n",
      "              silent=None, subsample=1, verbosity=1)\n"
     ]
    }
   ],
   "source": [
    "boost = xgb.XGBClassifier(objective = 'reg:logistic', random_state = 0, learning_rate = 0.1, max_depth = 3)\n",
    "boost_prediction = cross_val_predict(boost, X_train, Y_train, cv = 5)\n",
    "confusion_boost = confusion_matrix(Y_train, boost_prediction)\n",
    "print(classification_report(Y_train, boost_prediction))\n",
    "print(boost)"
   ]
  },
  {
   "cell_type": "code",
   "execution_count": 24,
   "metadata": {},
   "outputs": [
    {
     "name": "stdout",
     "output_type": "stream",
     "text": [
      "              precision    recall  f1-score   support\n",
      "\n",
      "           0       0.78      0.75      0.76       136\n",
      "           1       0.82      0.84      0.83       185\n",
      "\n",
      "    accuracy                           0.80       321\n",
      "   macro avg       0.80      0.80      0.80       321\n",
      "weighted avg       0.80      0.80      0.80       321\n",
      "\n",
      "[[102  34]\n",
      " [ 29 156]]\n"
     ]
    }
   ],
   "source": [
    "boost.fit(X_train, Y_train)\n",
    "boost_prediction_test = boost.predict(x_test)\n",
    "confusion_boost_test = confusion_matrix(y_test, boost_prediction_test)\n",
    "print(classification_report(y_test, boost_prediction_test))\n",
    "print(confusion_boost_test)"
   ]
  },
  {
   "cell_type": "code",
   "execution_count": 25,
   "metadata": {},
   "outputs": [
    {
     "data": {
      "text/plain": [
       "{'max_depth': 5,\n",
       " 'max_leaf_nodes': None,\n",
       " 'min_samples_leaf': 3,\n",
       " 'min_samples_split': 2}"
      ]
     },
     "execution_count": 25,
     "metadata": {},
     "output_type": "execute_result"
    }
   ],
   "source": [
    "#Decision Tree\n",
    "dt =  DecisionTreeClassifier(random_state = 0)\n",
    "param_grid_dt = {\"max_depth\": [3,4,5, None],\n",
    "              \"min_samples_leaf\": [1,2,3,4],\n",
    "              \"max_leaf_nodes\": [2,3,None],\n",
    "              \"min_samples_split\": [2,3,4,5]\n",
    "                }\n",
    "\n",
    "grid_search_dt = GridSearchCV(dt, param_grid= param_grid_dt, cv = 5)\n",
    "grid_search_dt.fit(X_train, Y_train)\n",
    "grid_search_dt.best_params_"
   ]
  },
  {
   "cell_type": "code",
   "execution_count": 26,
   "metadata": {},
   "outputs": [
    {
     "name": "stdout",
     "output_type": "stream",
     "text": [
      "              precision    recall  f1-score   support\n",
      "\n",
      "           0       0.72      0.78      0.75       281\n",
      "           1       0.86      0.82      0.84       468\n",
      "\n",
      "    accuracy                           0.80       749\n",
      "   macro avg       0.79      0.80      0.79       749\n",
      "weighted avg       0.81      0.80      0.81       749\n",
      "\n",
      "DecisionTreeClassifier(class_weight=None, criterion='gini', max_depth=5,\n",
      "                       max_features=None, max_leaf_nodes=None,\n",
      "                       min_impurity_decrease=0.0, min_impurity_split=None,\n",
      "                       min_samples_leaf=3, min_samples_split=2,\n",
      "                       min_weight_fraction_leaf=0.0, presort=False,\n",
      "                       random_state=0, splitter='best')\n"
     ]
    }
   ],
   "source": [
    "dt =  DecisionTreeClassifier(random_state = 0, max_depth = 5, max_leaf_nodes = None, min_samples_leaf = 3, min_samples_split = 2)\n",
    "dt_prediction = cross_val_predict(dt, X_train, Y_train, cv = 5)\n",
    "confusion_dt = confusion_matrix(Y_train, boost_prediction)\n",
    "print(classification_report(Y_train, dt_prediction))\n",
    "print(dt)"
   ]
  },
  {
   "cell_type": "code",
   "execution_count": 27,
   "metadata": {},
   "outputs": [
    {
     "name": "stdout",
     "output_type": "stream",
     "text": [
      "              precision    recall  f1-score   support\n",
      "\n",
      "           0       0.73      0.81      0.77       136\n",
      "           1       0.85      0.78      0.81       185\n",
      "\n",
      "    accuracy                           0.79       321\n",
      "   macro avg       0.79      0.79      0.79       321\n",
      "weighted avg       0.80      0.79      0.79       321\n",
      "\n",
      "[[110  26]\n",
      " [ 41 144]]\n"
     ]
    }
   ],
   "source": [
    "dt.fit(X_train, Y_train)\n",
    "dt_prediction_test = dt.predict(x_test)\n",
    "confusion_dt_test = confusion_matrix(y_test, dt_prediction_test)\n",
    "print(classification_report(y_test, dt_prediction_test))\n",
    "print(confusion_dt_test)"
   ]
  },
  {
   "cell_type": "code",
   "execution_count": 28,
   "metadata": {},
   "outputs": [
    {
     "name": "stdout",
     "output_type": "stream",
     "text": [
      "              precision    recall  f1-score   support\n",
      "\n",
      "           0       0.65      0.75      0.70       281\n",
      "           1       0.83      0.76      0.79       468\n",
      "\n",
      "    accuracy                           0.75       749\n",
      "   macro avg       0.74      0.75      0.74       749\n",
      "weighted avg       0.76      0.75      0.76       749\n",
      "\n",
      "GaussianNB(priors=None, var_smoothing=1e-09)\n"
     ]
    }
   ],
   "source": [
    "#Naive Bayes\n",
    "nb = GaussianNB()\n",
    "nb_prediction = cross_val_predict(nb, X_train, Y_train, cv = 5)\n",
    "confusion_dt = confusion_matrix(Y_train, boost_prediction)\n",
    "print(classification_report(Y_train, nb_prediction))\n",
    "print(nb)\n"
   ]
  },
  {
   "cell_type": "code",
   "execution_count": 29,
   "metadata": {},
   "outputs": [
    {
     "name": "stdout",
     "output_type": "stream",
     "text": [
      "              precision    recall  f1-score   support\n",
      "\n",
      "           0       0.70      0.80      0.75       136\n",
      "           1       0.84      0.75      0.79       185\n",
      "\n",
      "    accuracy                           0.77       321\n",
      "   macro avg       0.77      0.77      0.77       321\n",
      "weighted avg       0.78      0.77      0.77       321\n",
      "\n",
      "[[109  27]\n",
      " [ 47 138]]\n"
     ]
    }
   ],
   "source": [
    "nb.fit(X_train, Y_train)\n",
    "nb_prediction_test = nb.predict(x_test)\n",
    "confusion_nb_test = confusion_matrix(y_test, nb_prediction_test)\n",
    "print(classification_report(y_test, nb_prediction_test))\n",
    "print(confusion_nb_test)"
   ]
  },
  {
   "cell_type": "code",
   "execution_count": null,
   "metadata": {},
   "outputs": [],
   "source": []
  }
 ],
 "metadata": {
  "kernelspec": {
   "display_name": "Python 3",
   "language": "python",
   "name": "python3"
  },
  "language_info": {
   "codemirror_mode": {
    "name": "ipython",
    "version": 3
   },
   "file_extension": ".py",
   "mimetype": "text/x-python",
   "name": "python",
   "nbconvert_exporter": "python",
   "pygments_lexer": "ipython3",
   "version": "3.6.0"
  }
 },
 "nbformat": 4,
 "nbformat_minor": 1
}
